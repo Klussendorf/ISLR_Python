{
 "cells": [
  {
   "cell_type": "code",
   "execution_count": null,
   "metadata": {},
   "outputs": [],
   "source": [
    "#Classification"
   ]
  },
  {
   "cell_type": "code",
   "execution_count": null,
   "metadata": {},
   "outputs": [],
   "source": [
    "#Lab for Logistic Regression, LDA, QDA and KNN"
   ]
  },
  {
   "cell_type": "code",
   "execution_count": 152,
   "metadata": {},
   "outputs": [],
   "source": [
    "#load module\n",
    "import pandas as pd\n",
    "import numpy as np\n",
    "import seaborn as sns\n",
    "import matplotlib.pyplot as plt\n",
    "from sklearn.linear_model import LogisticRegression\n",
    "import statsmodels.api as sm\n",
    "from sklearn import metrics\n",
    "from sklearn.cross_validation import train_test_split\n",
    "import matplotlib as mpl\n",
    "from sklearn.metrics import classification_report"
   ]
  },
  {
   "cell_type": "code",
   "execution_count": 13,
   "metadata": {},
   "outputs": [
    {
     "name": "stdout",
     "output_type": "stream",
     "text": [
      "<class 'pandas.core.frame.DataFrame'>\n",
      "RangeIndex: 1250 entries, 0 to 1249\n",
      "Data columns (total 10 columns):\n",
      "Unnamed: 0    1250 non-null int64\n",
      "Year          1250 non-null int64\n",
      "Lag1          1250 non-null float64\n",
      "Lag2          1250 non-null float64\n",
      "Lag3          1250 non-null float64\n",
      "Lag4          1250 non-null float64\n",
      "Lag5          1250 non-null float64\n",
      "Volume        1250 non-null float64\n",
      "Today         1250 non-null float64\n",
      "Direction     1250 non-null object\n",
      "dtypes: float64(7), int64(2), object(1)\n",
      "memory usage: 97.7+ KB\n"
     ]
    }
   ],
   "source": [
    "#load dataset\n",
    "smarket = pd.read_csv('/Users/YaoJunyan/Documents/ISLR_Python/Dataset/Smarket.csv')\n",
    "smarket.info()"
   ]
  },
  {
   "cell_type": "code",
   "execution_count": 14,
   "metadata": {},
   "outputs": [
    {
     "data": {
      "text/html": [
       "<div>\n",
       "<style scoped>\n",
       "    .dataframe tbody tr th:only-of-type {\n",
       "        vertical-align: middle;\n",
       "    }\n",
       "\n",
       "    .dataframe tbody tr th {\n",
       "        vertical-align: top;\n",
       "    }\n",
       "\n",
       "    .dataframe thead th {\n",
       "        text-align: right;\n",
       "    }\n",
       "</style>\n",
       "<table border=\"1\" class=\"dataframe\">\n",
       "  <thead>\n",
       "    <tr style=\"text-align: right;\">\n",
       "      <th></th>\n",
       "      <th>Unnamed: 0</th>\n",
       "      <th>Year</th>\n",
       "      <th>Lag1</th>\n",
       "      <th>Lag2</th>\n",
       "      <th>Lag3</th>\n",
       "      <th>Lag4</th>\n",
       "      <th>Lag5</th>\n",
       "      <th>Volume</th>\n",
       "      <th>Today</th>\n",
       "    </tr>\n",
       "  </thead>\n",
       "  <tbody>\n",
       "    <tr>\n",
       "      <th>count</th>\n",
       "      <td>1250.000000</td>\n",
       "      <td>1250.000000</td>\n",
       "      <td>1250.000000</td>\n",
       "      <td>1250.000000</td>\n",
       "      <td>1250.000000</td>\n",
       "      <td>1250.000000</td>\n",
       "      <td>1250.00000</td>\n",
       "      <td>1250.000000</td>\n",
       "      <td>1250.000000</td>\n",
       "    </tr>\n",
       "    <tr>\n",
       "      <th>mean</th>\n",
       "      <td>625.500000</td>\n",
       "      <td>2003.016000</td>\n",
       "      <td>0.003834</td>\n",
       "      <td>0.003919</td>\n",
       "      <td>0.001716</td>\n",
       "      <td>0.001636</td>\n",
       "      <td>0.00561</td>\n",
       "      <td>1.478305</td>\n",
       "      <td>0.003138</td>\n",
       "    </tr>\n",
       "    <tr>\n",
       "      <th>std</th>\n",
       "      <td>360.988227</td>\n",
       "      <td>1.409018</td>\n",
       "      <td>1.136299</td>\n",
       "      <td>1.136280</td>\n",
       "      <td>1.138703</td>\n",
       "      <td>1.138774</td>\n",
       "      <td>1.14755</td>\n",
       "      <td>0.360357</td>\n",
       "      <td>1.136334</td>\n",
       "    </tr>\n",
       "    <tr>\n",
       "      <th>min</th>\n",
       "      <td>1.000000</td>\n",
       "      <td>2001.000000</td>\n",
       "      <td>-4.922000</td>\n",
       "      <td>-4.922000</td>\n",
       "      <td>-4.922000</td>\n",
       "      <td>-4.922000</td>\n",
       "      <td>-4.92200</td>\n",
       "      <td>0.356070</td>\n",
       "      <td>-4.922000</td>\n",
       "    </tr>\n",
       "    <tr>\n",
       "      <th>25%</th>\n",
       "      <td>313.250000</td>\n",
       "      <td>2002.000000</td>\n",
       "      <td>-0.639500</td>\n",
       "      <td>-0.639500</td>\n",
       "      <td>-0.640000</td>\n",
       "      <td>-0.640000</td>\n",
       "      <td>-0.64000</td>\n",
       "      <td>1.257400</td>\n",
       "      <td>-0.639500</td>\n",
       "    </tr>\n",
       "    <tr>\n",
       "      <th>50%</th>\n",
       "      <td>625.500000</td>\n",
       "      <td>2003.000000</td>\n",
       "      <td>0.039000</td>\n",
       "      <td>0.039000</td>\n",
       "      <td>0.038500</td>\n",
       "      <td>0.038500</td>\n",
       "      <td>0.03850</td>\n",
       "      <td>1.422950</td>\n",
       "      <td>0.038500</td>\n",
       "    </tr>\n",
       "    <tr>\n",
       "      <th>75%</th>\n",
       "      <td>937.750000</td>\n",
       "      <td>2004.000000</td>\n",
       "      <td>0.596750</td>\n",
       "      <td>0.596750</td>\n",
       "      <td>0.596750</td>\n",
       "      <td>0.596750</td>\n",
       "      <td>0.59700</td>\n",
       "      <td>1.641675</td>\n",
       "      <td>0.596750</td>\n",
       "    </tr>\n",
       "    <tr>\n",
       "      <th>max</th>\n",
       "      <td>1250.000000</td>\n",
       "      <td>2005.000000</td>\n",
       "      <td>5.733000</td>\n",
       "      <td>5.733000</td>\n",
       "      <td>5.733000</td>\n",
       "      <td>5.733000</td>\n",
       "      <td>5.73300</td>\n",
       "      <td>3.152470</td>\n",
       "      <td>5.733000</td>\n",
       "    </tr>\n",
       "  </tbody>\n",
       "</table>\n",
       "</div>"
      ],
      "text/plain": [
       "        Unnamed: 0         Year         Lag1         Lag2         Lag3  \\\n",
       "count  1250.000000  1250.000000  1250.000000  1250.000000  1250.000000   \n",
       "mean    625.500000  2003.016000     0.003834     0.003919     0.001716   \n",
       "std     360.988227     1.409018     1.136299     1.136280     1.138703   \n",
       "min       1.000000  2001.000000    -4.922000    -4.922000    -4.922000   \n",
       "25%     313.250000  2002.000000    -0.639500    -0.639500    -0.640000   \n",
       "50%     625.500000  2003.000000     0.039000     0.039000     0.038500   \n",
       "75%     937.750000  2004.000000     0.596750     0.596750     0.596750   \n",
       "max    1250.000000  2005.000000     5.733000     5.733000     5.733000   \n",
       "\n",
       "              Lag4        Lag5       Volume        Today  \n",
       "count  1250.000000  1250.00000  1250.000000  1250.000000  \n",
       "mean      0.001636     0.00561     1.478305     0.003138  \n",
       "std       1.138774     1.14755     0.360357     1.136334  \n",
       "min      -4.922000    -4.92200     0.356070    -4.922000  \n",
       "25%      -0.640000    -0.64000     1.257400    -0.639500  \n",
       "50%       0.038500     0.03850     1.422950     0.038500  \n",
       "75%       0.596750     0.59700     1.641675     0.596750  \n",
       "max       5.733000     5.73300     3.152470     5.733000  "
      ]
     },
     "execution_count": 14,
     "metadata": {},
     "output_type": "execute_result"
    }
   ],
   "source": [
    "smarket.describe()"
   ]
  },
  {
   "cell_type": "code",
   "execution_count": 132,
   "metadata": {},
   "outputs": [
    {
     "data": {
      "image/png": "[encoded data removed]",
      "text/plain": [
       "<Figure size 432x288 with 1 Axes>"
      ]
     },
     "metadata": {},
     "output_type": "display_data"
    }
   ],
   "source": [
    "smarket['direction_ind']=pd.factorize(smarket.Direction)[0]\n",
    "\n",
    "\n",
    "# Take a fraction of the samples where target value is 'down'\n",
    "df_no = smarket[smarket.direction_ind == 0].sample(frac=0.15)\n",
    "# Take all samples  where target value is 'up'\n",
    "df_yes = smarket[smarket.direction_ind == 1]\n",
    "df_ = df_no.append(df_yes)\n",
    "\n",
    "plt.scatter(df_[df_.Direction == 'Up'].Lag2, df_[df_.Direction == 'Up'].Volume, c='orange', marker='+',\n",
    "            linewidths=1)\n",
    "plt.scatter(df_[df_.Direction == 'Down'].Lag2, df_[df_.Direction == 'Down'].Volume, marker='o', linewidths='1',\n",
    "            edgecolors='lightblue', facecolors='white', alpha=.6)\n",
    "\n",
    "\n",
    "plt.show()"
   ]
  },
  {
   "cell_type": "code",
   "execution_count": 19,
   "metadata": {},
   "outputs": [
    {
     "data": {
      "text/plain": [
       "(1250, 10)"
      ]
     },
     "execution_count": 19,
     "metadata": {},
     "output_type": "execute_result"
    }
   ],
   "source": [
    "#dimension of data:\n",
    "smarket.shape"
   ]
  },
  {
   "cell_type": "code",
   "execution_count": 20,
   "metadata": {},
   "outputs": [
    {
     "data": {
      "text/html": [
       "<div>\n",
       "<style scoped>\n",
       "    .dataframe tbody tr th:only-of-type {\n",
       "        vertical-align: middle;\n",
       "    }\n",
       "\n",
       "    .dataframe tbody tr th {\n",
       "        vertical-align: top;\n",
       "    }\n",
       "\n",
       "    .dataframe thead th {\n",
       "        text-align: right;\n",
       "    }\n",
       "</style>\n",
       "<table border=\"1\" class=\"dataframe\">\n",
       "  <thead>\n",
       "    <tr style=\"text-align: right;\">\n",
       "      <th></th>\n",
       "      <th>Unnamed: 0</th>\n",
       "      <th>Year</th>\n",
       "      <th>Lag1</th>\n",
       "      <th>Lag2</th>\n",
       "      <th>Lag3</th>\n",
       "      <th>Lag4</th>\n",
       "      <th>Lag5</th>\n",
       "      <th>Volume</th>\n",
       "      <th>Today</th>\n",
       "    </tr>\n",
       "  </thead>\n",
       "  <tbody>\n",
       "    <tr>\n",
       "      <th>Unnamed: 0</th>\n",
       "      <td>1.000000</td>\n",
       "      <td>0.979773</td>\n",
       "      <td>0.035415</td>\n",
       "      <td>0.036022</td>\n",
       "      <td>0.038989</td>\n",
       "      <td>0.041437</td>\n",
       "      <td>0.035025</td>\n",
       "      <td>0.546348</td>\n",
       "      <td>0.035273</td>\n",
       "    </tr>\n",
       "    <tr>\n",
       "      <th>Year</th>\n",
       "      <td>0.979773</td>\n",
       "      <td>1.000000</td>\n",
       "      <td>0.029700</td>\n",
       "      <td>0.030596</td>\n",
       "      <td>0.033195</td>\n",
       "      <td>0.035689</td>\n",
       "      <td>0.029788</td>\n",
       "      <td>0.539006</td>\n",
       "      <td>0.030095</td>\n",
       "    </tr>\n",
       "    <tr>\n",
       "      <th>Lag1</th>\n",
       "      <td>0.035415</td>\n",
       "      <td>0.029700</td>\n",
       "      <td>1.000000</td>\n",
       "      <td>-0.026294</td>\n",
       "      <td>-0.010803</td>\n",
       "      <td>-0.002986</td>\n",
       "      <td>-0.005675</td>\n",
       "      <td>0.040910</td>\n",
       "      <td>-0.026155</td>\n",
       "    </tr>\n",
       "    <tr>\n",
       "      <th>Lag2</th>\n",
       "      <td>0.036022</td>\n",
       "      <td>0.030596</td>\n",
       "      <td>-0.026294</td>\n",
       "      <td>1.000000</td>\n",
       "      <td>-0.025897</td>\n",
       "      <td>-0.010854</td>\n",
       "      <td>-0.003558</td>\n",
       "      <td>-0.043383</td>\n",
       "      <td>-0.010250</td>\n",
       "    </tr>\n",
       "    <tr>\n",
       "      <th>Lag3</th>\n",
       "      <td>0.038989</td>\n",
       "      <td>0.033195</td>\n",
       "      <td>-0.010803</td>\n",
       "      <td>-0.025897</td>\n",
       "      <td>1.000000</td>\n",
       "      <td>-0.024051</td>\n",
       "      <td>-0.018808</td>\n",
       "      <td>-0.041824</td>\n",
       "      <td>-0.002448</td>\n",
       "    </tr>\n",
       "    <tr>\n",
       "      <th>Lag4</th>\n",
       "      <td>0.041437</td>\n",
       "      <td>0.035689</td>\n",
       "      <td>-0.002986</td>\n",
       "      <td>-0.010854</td>\n",
       "      <td>-0.024051</td>\n",
       "      <td>1.000000</td>\n",
       "      <td>-0.027084</td>\n",
       "      <td>-0.048414</td>\n",
       "      <td>-0.006900</td>\n",
       "    </tr>\n",
       "    <tr>\n",
       "      <th>Lag5</th>\n",
       "      <td>0.035025</td>\n",
       "      <td>0.029788</td>\n",
       "      <td>-0.005675</td>\n",
       "      <td>-0.003558</td>\n",
       "      <td>-0.018808</td>\n",
       "      <td>-0.027084</td>\n",
       "      <td>1.000000</td>\n",
       "      <td>-0.022002</td>\n",
       "      <td>-0.034860</td>\n",
       "    </tr>\n",
       "    <tr>\n",
       "      <th>Volume</th>\n",
       "      <td>0.546348</td>\n",
       "      <td>0.539006</td>\n",
       "      <td>0.040910</td>\n",
       "      <td>-0.043383</td>\n",
       "      <td>-0.041824</td>\n",
       "      <td>-0.048414</td>\n",
       "      <td>-0.022002</td>\n",
       "      <td>1.000000</td>\n",
       "      <td>0.014592</td>\n",
       "    </tr>\n",
       "    <tr>\n",
       "      <th>Today</th>\n",
       "      <td>0.035273</td>\n",
       "      <td>0.030095</td>\n",
       "      <td>-0.026155</td>\n",
       "      <td>-0.010250</td>\n",
       "      <td>-0.002448</td>\n",
       "      <td>-0.006900</td>\n",
       "      <td>-0.034860</td>\n",
       "      <td>0.014592</td>\n",
       "      <td>1.000000</td>\n",
       "    </tr>\n",
       "  </tbody>\n",
       "</table>\n",
       "</div>"
      ],
      "text/plain": [
       "            Unnamed: 0      Year      Lag1      Lag2      Lag3      Lag4  \\\n",
       "Unnamed: 0    1.000000  0.979773  0.035415  0.036022  0.038989  0.041437   \n",
       "Year          0.979773  1.000000  0.029700  0.030596  0.033195  0.035689   \n",
       "Lag1          0.035415  0.029700  1.000000 -0.026294 -0.010803 -0.002986   \n",
       "Lag2          0.036022  0.030596 -0.026294  1.000000 -0.025897 -0.010854   \n",
       "Lag3          0.038989  0.033195 -0.010803 -0.025897  1.000000 -0.024051   \n",
       "Lag4          0.041437  0.035689 -0.002986 -0.010854 -0.024051  1.000000   \n",
       "Lag5          0.035025  0.029788 -0.005675 -0.003558 -0.018808 -0.027084   \n",
       "Volume        0.546348  0.539006  0.040910 -0.043383 -0.041824 -0.048414   \n",
       "Today         0.035273  0.030095 -0.026155 -0.010250 -0.002448 -0.006900   \n",
       "\n",
       "                Lag5    Volume     Today  \n",
       "Unnamed: 0  0.035025  0.546348  0.035273  \n",
       "Year        0.029788  0.539006  0.030095  \n",
       "Lag1       -0.005675  0.040910 -0.026155  \n",
       "Lag2       -0.003558 -0.043383 -0.010250  \n",
       "Lag3       -0.018808 -0.041824 -0.002448  \n",
       "Lag4       -0.027084 -0.048414 -0.006900  \n",
       "Lag5        1.000000 -0.022002 -0.034860  \n",
       "Volume     -0.022002  1.000000  0.014592  \n",
       "Today      -0.034860  0.014592  1.000000  "
      ]
     },
     "execution_count": 20,
     "metadata": {},
     "output_type": "execute_result"
    }
   ],
   "source": [
    "#correlation matrix\n",
    "smarket.corr()"
   ]
  },
  {
   "cell_type": "code",
   "execution_count": 29,
   "metadata": {},
   "outputs": [
    {
     "data": {
      "text/plain": [
       "[<matplotlib.lines.Line2D at 0x11a791e80>]"
      ]
     },
     "execution_count": 29,
     "metadata": {},
     "output_type": "execute_result"
    },
    {
     "data": {
      "image/png": "[encoded data removed]",
      "text/plain": [
       "<Figure size 432x288 with 1 Axes>"
      ]
     },
     "metadata": {},
     "output_type": "display_data"
    }
   ],
   "source": [
    "plt.plot(smarket.Volume)"
   ]
  },
  {
   "cell_type": "code",
   "execution_count": null,
   "metadata": {},
   "outputs": [],
   "source": [
    "#logistic Regression"
   ]
  },
  {
   "cell_type": "code",
   "execution_count": 40,
   "metadata": {},
   "outputs": [
    {
     "name": "stderr",
     "output_type": "stream",
     "text": [
      "/Library/Frameworks/Python.framework/Versions/3.6/lib/python3.6/site-packages/ipykernel_launcher.py:2: FutureWarning: Method .as_matrix will be removed in a future version. Use .values instead.\n",
      "  \n"
     ]
    }
   ],
   "source": [
    "log_reg = LogisticRegression()\n",
    "x=smarket[['Lag1', 'Lag2', 'Lag3', 'Lag4', 'Lag5', 'Volume']].as_matrix()\n",
    "y= smarket['Direction']\n",
    "model1= log_reg.fit(x,y)"
   ]
  },
  {
   "cell_type": "code",
   "execution_count": 41,
   "metadata": {},
   "outputs": [
    {
     "name": "stdout",
     "output_type": "stream",
     "text": [
      "[[-0.07279035 -0.04229102  0.010958    0.00921799  0.01023031  0.12793931]]\n"
     ]
    }
   ],
   "source": [
    "print(model1.coef_)"
   ]
  },
  {
   "cell_type": "code",
   "execution_count": 59,
   "metadata": {},
   "outputs": [
    {
     "name": "stdout",
     "output_type": "stream",
     "text": [
      "Optimization terminated successfully.\n",
      "         Current function value: 0.691143\n",
      "         Iterations 4\n",
      "                         Results: Logit\n",
      "================================================================\n",
      "Model:              Logit            Pseudo R-squared: 0.002    \n",
      "Dependent Variable: y                AIC:              1739.8583\n",
      "Date:               2019-04-10 13:34 BIC:              1770.6436\n",
      "No. Observations:   1250             Log-Likelihood:   -863.93  \n",
      "Df Model:           5                LL-Null:          -865.59  \n",
      "Df Residuals:       1244             LLR p-value:      0.65131  \n",
      "Converged:          1.0000           Scale:            1.0000   \n",
      "No. Iterations:     4.0000                                      \n",
      "-------------------------------------------------------------------\n",
      "       Coef.     Std.Err.       z       P>|z|      [0.025    0.975]\n",
      "-------------------------------------------------------------------\n",
      "x1     0.0721      0.0501     1.4378    0.1505    -0.0262    0.1703\n",
      "x2     0.0434      0.0500     0.8678    0.3855    -0.0546    0.1415\n",
      "x3    -0.0100      0.0499    -0.1998    0.8416    -0.1077    0.0878\n",
      "x4    -0.0081      0.0499    -0.1617    0.8715    -0.1059    0.0897\n",
      "x5    -0.0097      0.0495    -0.1957    0.8449    -0.1067    0.0873\n",
      "x6    -0.0549      0.0373    -1.4730    0.1407    -0.1280    0.0181\n",
      "================================================================\n",
      "\n"
     ]
    }
   ],
   "source": [
    "#or try this way\n",
    "#statsmodels is very similar to R glm function, it can produces most of results in a single table using summary function\n",
    "logit_model =sm.Logit(pd.factorize(y)[0],x.astype(float)) #object type cannot be used here\n",
    "result= logit_model.fit()\n",
    "print(result.summary2())"
   ]
  },
  {
   "cell_type": "code",
   "execution_count": 62,
   "metadata": {},
   "outputs": [
    {
     "name": "stdout",
     "output_type": "stream",
     "text": [
      "                 Generalized Linear Model Regression Results                  \n",
      "==============================================================================\n",
      "Dep. Variable:                      y   No. Observations:                 1250\n",
      "Model:                            GLM   Df Residuals:                     1244\n",
      "Model Family:                Binomial   Df Model:                            5\n",
      "Link Function:                  logit   Scale:                          1.0000\n",
      "Method:                          IRLS   Log-Likelihood:                -863.93\n",
      "Date:                Wed, 10 Apr 2019   Deviance:                       1727.9\n",
      "Time:                        13:44:52   Pearson chi2:                 1.25e+03\n",
      "No. Iterations:                     4   Covariance Type:             nonrobust\n",
      "==============================================================================\n",
      "                 coef    std err          z      P>|z|      [0.025      0.975]\n",
      "------------------------------------------------------------------------------\n",
      "x1             0.0721      0.050      1.438      0.150      -0.026       0.170\n",
      "x2             0.0434      0.050      0.868      0.386      -0.055       0.141\n",
      "x3            -0.0100      0.050     -0.200      0.842      -0.108       0.088\n",
      "x4            -0.0081      0.050     -0.162      0.872      -0.106       0.090\n",
      "x5            -0.0097      0.049     -0.196      0.845      -0.107       0.087\n",
      "x6            -0.0549      0.037     -1.473      0.141      -0.128       0.018\n",
      "==============================================================================\n"
     ]
    }
   ],
   "source": [
    "model2= sm.GLM(pd.factorize(y)[0],x.astype(float), family=sm.families.Binomial())\n",
    "model2_result= model2.fit()\n",
    "print(model2_result.summary())"
   ]
  },
  {
   "cell_type": "code",
   "execution_count": null,
   "metadata": {},
   "outputs": [],
   "source": [
    "#train the model"
   ]
  },
  {
   "cell_type": "code",
   "execution_count": 66,
   "metadata": {},
   "outputs": [],
   "source": [
    "x_train, x_test, y_train, y_test = train_test_split(x,y, test_size =0.3, random_state= 0)"
   ]
  },
  {
   "cell_type": "code",
   "execution_count": 73,
   "metadata": {},
   "outputs": [
    {
     "name": "stdout",
     "output_type": "stream",
     "text": [
      "[[-0.06756919 -0.06561412  0.04349014 -0.03971087 -0.03472513  0.09201262]]\n"
     ]
    }
   ],
   "source": [
    "model3= log_reg.fit(x_train, y_train)\n",
    "print(model3.coef_)"
   ]
  },
  {
   "cell_type": "code",
   "execution_count": 75,
   "metadata": {},
   "outputs": [],
   "source": [
    "y_pred= model3.predict(x_test)"
   ]
  },
  {
   "cell_type": "code",
   "execution_count": 76,
   "metadata": {},
   "outputs": [
    {
     "name": "stdout",
     "output_type": "stream",
     "text": [
      "[[ 46 138]\n",
      " [ 50 141]]\n"
     ]
    }
   ],
   "source": [
    "from sklearn.metrics import confusion_matrix\n",
    "confusion_matrix = confusion_matrix(y_test, y_pred)\n",
    "print(confusion_matrix)"
   ]
  },
  {
   "cell_type": "markdown",
   "metadata": {},
   "source": [
    "This matrix is telling us we have 46+141 correct predictions and 50+138 incorrect predictions."
   ]
  },
  {
   "cell_type": "code",
   "execution_count": 78,
   "metadata": {},
   "outputs": [
    {
     "name": "stdout",
     "output_type": "stream",
     "text": [
      "             precision    recall  f1-score   support\n",
      "\n",
      "       Down       0.48      0.25      0.33       184\n",
      "         Up       0.51      0.74      0.60       191\n",
      "\n",
      "avg / total       0.49      0.50      0.47       375\n",
      "\n"
     ]
    }
   ],
   "source": [
    "print(metrics.classification_report(y_test, y_pred))"
   ]
  },
  {
   "cell_type": "markdown",
   "metadata": {},
   "source": [
    "The recall is the ratio tp / (tp + fn) where tp is the number of true positives and fn the number of false negatives. The recall is intuitively the ability of the classifier to find all the positive samples.\n",
    "The F-beta score can be interpreted as a weighted harmonic mean of the precision and recall, where an F-beta score reaches its best value at 1 and worst score at 0.\n",
    "The F-beta score weights the recall more than the precision by a factor of beta. beta = 1.0 means recall and precision are equally important.\n",
    "citation: https://towardsdatascience.com/building-a-logistic-regression-in-python-step-by-step-becd4d56c9c8\n"
   ]
  },
  {
   "cell_type": "code",
   "execution_count": 85,
   "metadata": {},
   "outputs": [
    {
     "name": "stdout",
     "output_type": "stream",
     "text": [
      "Accuracy 0.49866666666666665\n"
     ]
    }
   ],
   "source": [
    "from sklearn.metrics import roc_curve, auc\n",
    "print(\"Accuracy\", metrics.accuracy_score(y_test, y_pred))"
   ]
  },
  {
   "cell_type": "code",
   "execution_count": 100,
   "metadata": {},
   "outputs": [
    {
     "data": {
      "image/png": "[encoded data removed]",
      "text/plain": [
       "<Figure size 432x288 with 1 Axes>"
      ]
     },
     "metadata": {},
     "output_type": "display_data"
    }
   ],
   "source": [
    "y_pred_proba = model3.predict_proba(x_test)[::,1]\n",
    "fpr, tpr, _ = metrics.roc_curve(pd.factorize(y_test)[0],  y_pred_proba)\n",
    "auc = metrics.roc_auc_score(pd.factorize(y_test)[0], y_pred_proba)\n",
    "plt.plot(fpr,tpr,label=\"data 1, auc=\"+str(auc))\n",
    "plt.plot([0, 1], [0, 1],'r--')\n",
    "plt.legend(loc=4)\n",
    "plt.show()"
   ]
  },
  {
   "cell_type": "markdown",
   "metadata": {},
   "source": [
    "yep, both precision table and ROC curve looks pretty bad!"
   ]
  },
  {
   "cell_type": "code",
   "execution_count": null,
   "metadata": {},
   "outputs": [],
   "source": [
    "#LDA"
   ]
  },
  {
   "cell_type": "code",
   "execution_count": 101,
   "metadata": {},
   "outputs": [],
   "source": [
    "from sklearn.discriminant_analysis import LinearDiscriminantAnalysis as LDA"
   ]
  },
  {
   "cell_type": "code",
   "execution_count": 150,
   "metadata": {},
   "outputs": [
    {
     "name": "stdout",
     "output_type": "stream",
     "text": [
      "coefficient value [[-0.05544078 -0.0443452 ]]\n",
      "mean value [[ 0.04279022  0.03389409]\n",
      " [-0.03954635 -0.03132544]]\n"
     ]
    }
   ],
   "source": [
    "before_2005 = smarket.Year <2005\n",
    "after_2005 = smarket.Year>=2005\n",
    "X_train = smarket[before_2005][['Lag1','Lag2']]\n",
    "y_train = smarket[before_2005]['Direction']\n",
    "\n",
    "X_test = smarket[after_2005][['Lag1','Lag2']]\n",
    "y_test = smarket[after_2005]['Direction']\n",
    "lda_model =lda.fit(X_train, y_train)\n",
    "pred = lda_model.predict(X_test)\n",
    "print('coefficient value {}'.format(lda_model.coef_))\n",
    "print('mean value {}'.format(lda_model.means_))"
   ]
  },
  {
   "cell_type": "code",
   "execution_count": 153,
   "metadata": {},
   "outputs": [
    {
     "name": "stdout",
     "output_type": "stream",
     "text": [
      "             precision    recall  f1-score   support\n",
      "\n",
      "       Down       0.50      0.32      0.39       111\n",
      "         Up       0.58      0.75      0.66       141\n",
      "\n",
      "avg / total       0.55      0.56      0.54       252\n",
      "\n"
     ]
    }
   ],
   "source": [
    "print(classification_report(y_test, pred))"
   ]
  },
  {
   "cell_type": "code",
   "execution_count": 162,
   "metadata": {},
   "outputs": [
    {
     "data": {
      "image/png": "[encoded data removed]",
      "text/plain": [
       "<Figure size 432x288 with 1 Axes>"
      ]
     },
     "metadata": {},
     "output_type": "display_data"
    }
   ],
   "source": [
    "#ROC curve for LDA model\n",
    "y_pred_proba_lda = lda_model.predict_proba(X_test)\n",
    "fpr_lda, tpr_lda, _lda = metrics.roc_curve(pd.factorize(y_test)[0],  y_pred_proba_lda[:,1])\n",
    "auc_lda = metrics.roc_auc_score(pd.factorize(y_test)[0], y_pred_proba_lda[:,1])\n",
    "plt.plot(fpr_lda,tpr_lda,label=\"data 2, auc=\"+str(auc_lda))\n",
    "plt.plot([0, 1], [0, 1],'r--')\n",
    "plt.legend(loc=4)\n",
    "plt.show()\n"
   ]
  },
  {
   "cell_type": "raw",
   "metadata": {},
   "source": [
    "Slightly better than Logistic regression, but this is still bad"
   ]
  },
  {
   "cell_type": "code",
   "execution_count": null,
   "metadata": {},
   "outputs": [],
   "source": [
    "#QDA"
   ]
  },
  {
   "cell_type": "code",
   "execution_count": 168,
   "metadata": {},
   "outputs": [
    {
     "name": "stdout",
     "output_type": "stream",
     "text": [
      "Prior Probabilities of groups [0.49198397 0.50801603]\n",
      "Group means [[ 0.04279022  0.03389409]\n",
      " [-0.03954635 -0.03132544]]\n"
     ]
    }
   ],
   "source": [
    "from sklearn.discriminant_analysis import QuadraticDiscriminantAnalysis\n",
    "qda = QuadraticDiscriminantAnalysis()\n",
    "qda_model = qda.fit(X_train, y_train)\n",
    "qda_pred= qda_model.predict(X_test)\n",
    "print('Prior Probabilities of groups {}'.format(qda_model.priors_))\n",
    "print('Group means {}'.format(qda_model.means_))"
   ]
  },
  {
   "cell_type": "code",
   "execution_count": 169,
   "metadata": {},
   "outputs": [
    {
     "data": {
      "text/plain": [
       "array([[ 30,  81],\n",
       "       [ 20, 121]])"
      ]
     },
     "execution_count": 169,
     "metadata": {},
     "output_type": "execute_result"
    }
   ],
   "source": [
    "metrics.confusion_matrix(y_test, qda_pred)"
   ]
  },
  {
   "cell_type": "code",
   "execution_count": 171,
   "metadata": {},
   "outputs": [
    {
     "name": "stdout",
     "output_type": "stream",
     "text": [
      "             precision    recall  f1-score   support\n",
      "\n",
      "       Down       0.60      0.27      0.37       111\n",
      "         Up       0.60      0.86      0.71       141\n",
      "\n",
      "avg / total       0.60      0.60      0.56       252\n",
      "\n"
     ]
    }
   ],
   "source": [
    "print(classification_report(y_test, qda_pred))"
   ]
  },
  {
   "cell_type": "code",
   "execution_count": 174,
   "metadata": {},
   "outputs": [
    {
     "data": {
      "image/png": "[encoded data removed]",
      "text/plain": [
       "<Figure size 432x288 with 1 Axes>"
      ]
     },
     "metadata": {},
     "output_type": "display_data"
    }
   ],
   "source": [
    "#ROC curve for QDA model\n",
    "y_pred_proba_qda = qda_model.predict_proba(X_test)\n",
    "fpr_qda, tpr_qda, _qda = metrics.roc_curve(pd.factorize(y_test)[0],  y_pred_proba_qda[:,1])\n",
    "auc_qda = metrics.roc_auc_score(pd.factorize(y_test)[0], y_pred_proba_qda[:,1])\n",
    "plt.plot(fpr_qda,tpr_qda,label=\"data 2, auc=\"+str(auc_qda))\n",
    "plt.plot([0, 1], [0, 1],'r--')\n",
    "plt.legend(loc=4)\n",
    "plt.show()\n"
   ]
  },
  {
   "cell_type": "raw",
   "metadata": {},
   "source": [
    "No improvement"
   ]
  },
  {
   "cell_type": "code",
   "execution_count": 179,
   "metadata": {},
   "outputs": [
    {
     "name": "stdout",
     "output_type": "stream",
     "text": [
      "             precision    recall  f1-score   support\n",
      "\n",
      "       Down       0.43      0.39      0.41       111\n",
      "         Up       0.55      0.59      0.57       141\n",
      "\n",
      "avg / total       0.50      0.50      0.50       252\n",
      "\n",
      "[[43 68]\n",
      " [58 83]]\n"
     ]
    }
   ],
   "source": [
    "#KNN\n",
    "from sklearn.neighbors import KNeighborsClassifier\n",
    "classifer= KNeighborsClassifier(n_neighbors=1)\n",
    "knn_model= classifer.fit(X_train, y_train)\n",
    "knn_pred= knn_model.predict(X_test)\n",
    "print(classification_report(y_test, knn_pred))\n",
    "print(metrics.confusion_matrix(y_test, knn_pred))"
   ]
  },
  {
   "cell_type": "code",
   "execution_count": 180,
   "metadata": {},
   "outputs": [
    {
     "data": {
      "text/plain": [
       "0.5"
      ]
     },
     "execution_count": 180,
     "metadata": {},
     "output_type": "execute_result"
    }
   ],
   "source": [
    "(43+83)/252"
   ]
  },
  {
   "cell_type": "code",
   "execution_count": 181,
   "metadata": {},
   "outputs": [
    {
     "name": "stdout",
     "output_type": "stream",
     "text": [
      "             precision    recall  f1-score   support\n",
      "\n",
      "       Down       0.47      0.43      0.45       111\n",
      "         Up       0.58      0.61      0.59       141\n",
      "\n",
      "avg / total       0.53      0.53      0.53       252\n",
      "\n",
      "[[48 63]\n",
      " [55 86]]\n"
     ]
    }
   ],
   "source": [
    "#try k=3\n",
    "classifer2= KNeighborsClassifier(n_neighbors=3)\n",
    "knn_model2= classifer2.fit(X_train, y_train)\n",
    "knn_pred2= knn_model2.predict(X_test)\n",
    "print(classification_report(y_test, knn_pred2))\n",
    "print(metrics.confusion_matrix(y_test, knn_pred2))"
   ]
  },
  {
   "cell_type": "code",
   "execution_count": 182,
   "metadata": {},
   "outputs": [
    {
     "data": {
      "text/plain": [
       "0.5317460317460317"
      ]
     },
     "execution_count": 182,
     "metadata": {},
     "output_type": "execute_result"
    }
   ],
   "source": [
    "(48+86)/252 "
   ]
  },
  {
   "cell_type": "raw",
   "metadata": {},
   "source": [
    "KNN with K=3 has a better results "
   ]
  },
  {
   "cell_type": "code",
   "execution_count": 212,
   "metadata": {},
   "outputs": [
    {
     "data": {
      "text/plain": [
       "Index(['MOSTYPE', 'MAANTHUI', 'MGEMOMV', 'MGEMLEEF', 'MOSHOOFD', 'MGODRK',\n",
       "       'MGODPR', 'MGODOV', 'MGODGE', 'MRELGE', 'MRELSA', 'MRELOV', 'MFALLEEN',\n",
       "       'MFGEKIND', 'MFWEKIND', 'MOPLHOOG', 'MOPLMIDD', 'MOPLLAAG', 'MBERHOOG',\n",
       "       'MBERZELF', 'MBERBOER', 'MBERMIDD', 'MBERARBG', 'MBERARBO', 'MSKA',\n",
       "       'MSKB1', 'MSKB2', 'MSKC', 'MSKD', 'MHHUUR', 'MHKOOP', 'MAUT1', 'MAUT2',\n",
       "       'MAUT0', 'MZFONDS', 'MZPART', 'MINKM30', 'MINK3045', 'MINK4575',\n",
       "       'MINK7512', 'MINK123M', 'MINKGEM', 'MKOOPKLA', 'PWAPART', 'PWABEDR',\n",
       "       'PWALAND', 'PPERSAUT', 'PBESAUT', 'PMOTSCO', 'PVRAAUT', 'PAANHANG',\n",
       "       'PTRACTOR', 'PWERKT', 'PBROM', 'PLEVEN', 'PPERSONG', 'PGEZONG',\n",
       "       'PWAOREG', 'PBRAND', 'PZEILPL', 'PPLEZIER', 'PFIETS', 'PINBOED',\n",
       "       'PBYSTAND', 'AWAPART', 'AWABEDR', 'AWALAND', 'APERSAUT', 'ABESAUT',\n",
       "       'AMOTSCO', 'AVRAAUT', 'AAANHANG', 'ATRACTOR', 'AWERKT', 'ABROM',\n",
       "       'ALEVEN', 'APERSONG', 'AGEZONG', 'AWAOREG', 'ABRAND', 'AZEILPL',\n",
       "       'APLEZIER', 'AFIETS', 'AINBOED', 'ABYSTAND', 'Purchase'],\n",
       "      dtype='object')"
      ]
     },
     "execution_count": 212,
     "metadata": {},
     "output_type": "execute_result"
    }
   ],
   "source": [
    "#An Application to Caravan Insurance Data\n",
    "caravan= pd.read_csv('Dataset/Caravan.csv')\n",
    "df=caravan.drop('Unnamed: 0', axis=1)\n",
    "df.columns"
   ]
  },
  {
   "cell_type": "code",
   "execution_count": 213,
   "metadata": {},
   "outputs": [
    {
     "data": {
      "text/plain": [
       "No     5474\n",
       "Yes     348\n",
       "Name: Purchase, dtype: int64"
      ]
     },
     "execution_count": 213,
     "metadata": {},
     "output_type": "execute_result"
    }
   ],
   "source": [
    "df['Purchase'].value_counts()"
   ]
  },
  {
   "cell_type": "code",
   "execution_count": 214,
   "metadata": {},
   "outputs": [
    {
     "data": {
      "text/plain": [
       "array([[ 0.68090623, -0.27257995,  0.40669664, ..., -0.15062046,\n",
       "        -0.08734772, -0.11881647],\n",
       "       [ 0.99229684, -0.27257995, -0.85950007, ..., -0.15062046,\n",
       "        -0.08734772, -0.11881647],\n",
       "       [ 0.99229684, -0.27257995, -0.85950007, ..., -0.15062046,\n",
       "        -0.08734772, -0.11881647],\n",
       "       ...,\n",
       "       [ 0.68090623, -0.27257995,  0.40669664, ..., -0.15062046,\n",
       "        -0.08734772, -0.11881647],\n",
       "       [ 0.75875388, -0.27257995,  0.40669664, ..., -0.15062046,\n",
       "        -0.08734772, -0.11881647],\n",
       "       [ 0.68090623, -0.27257995,  0.40669664, ..., -0.15062046,\n",
       "        -0.08734772, -0.11881647]])"
      ]
     },
     "execution_count": 214,
     "metadata": {},
     "output_type": "execute_result"
    }
   ],
   "source": [
    "#scale variables\n",
    "X= df.drop('Purchase', axis =1)\n",
    "y= df.Purchase\n",
    "from sklearn.preprocessing import StandardScaler\n",
    "scale= StandardScaler()\n",
    "scale.fit(X)\n",
    "scale.transform(X)"
   ]
  },
  {
   "cell_type": "code",
   "execution_count": 215,
   "metadata": {},
   "outputs": [],
   "source": [
    "X_train =X.iloc[1000:,:]\n",
    "X_test=X.iloc[0:1000,:]\n",
    "y_train =y.iloc[1000:]\n",
    "y_test =y.iloc[0:1000]\n",
    "X_train_scale = scale.transform(X_train)\n",
    "X_test_scale= scale.transform(X_test)"
   ]
  },
  {
   "cell_type": "code",
   "execution_count": 217,
   "metadata": {},
   "outputs": [
    {
     "name": "stdout",
     "output_type": "stream",
     "text": [
      "[[873  68]\n",
      " [ 50   9]]\n"
     ]
    }
   ],
   "source": [
    "#K=1\n",
    "knn_1= KNeighborsClassifier(n_neighbors=1)\n",
    "mod1= knn_1.fit(X_train_scale, y_train)\n",
    "knn_1_pred= mod1.predict(X_test_scale)\n",
    "print(metrics.confusion_matrix(y_test, knn_1_pred))"
   ]
  },
  {
   "cell_type": "code",
   "execution_count": 219,
   "metadata": {},
   "outputs": [
    {
     "data": {
      "text/plain": [
       "0.11688311688311688"
      ]
     },
     "execution_count": 219,
     "metadata": {},
     "output_type": "execute_result"
    }
   ],
   "source": [
    "9/(9+68)"
   ]
  },
  {
   "cell_type": "code",
   "execution_count": 220,
   "metadata": {},
   "outputs": [
    {
     "name": "stdout",
     "output_type": "stream",
     "text": [
      "[[921  20]\n",
      " [ 54   5]]\n"
     ]
    }
   ],
   "source": [
    "#k=3\n",
    "knn_3= KNeighborsClassifier(n_neighbors=3)\n",
    "mod3= knn_3.fit(X_train_scale, y_train)\n",
    "knn_3_pred= mod3.predict(X_test_scale)\n",
    "print(metrics.confusion_matrix(y_test, knn_3_pred))"
   ]
  },
  {
   "cell_type": "code",
   "execution_count": 221,
   "metadata": {},
   "outputs": [
    {
     "data": {
      "text/plain": [
       "0.16666666666666666"
      ]
     },
     "execution_count": 221,
     "metadata": {},
     "output_type": "execute_result"
    }
   ],
   "source": [
    "5/(5+25)"
   ]
  },
  {
   "cell_type": "code",
   "execution_count": 222,
   "metadata": {},
   "outputs": [
    {
     "name": "stdout",
     "output_type": "stream",
     "text": [
      "[[930  11]\n",
      " [ 55   4]]\n"
     ]
    }
   ],
   "source": [
    "#k=5\n",
    "knn_5= KNeighborsClassifier(n_neighbors=5)\n",
    "mod5= knn_5.fit(X_train_scale, y_train)\n",
    "knn_5_pred= mod5.predict(X_test_scale)\n",
    "print(metrics.confusion_matrix(y_test, knn_5_pred))"
   ]
  },
  {
   "cell_type": "code",
   "execution_count": 223,
   "metadata": {},
   "outputs": [
    {
     "data": {
      "text/plain": [
       "0.26666666666666666"
      ]
     },
     "execution_count": 223,
     "metadata": {},
     "output_type": "execute_result"
    }
   ],
   "source": [
    "4/(4+11)"
   ]
  },
  {
   "cell_type": "code",
   "execution_count": 224,
   "metadata": {},
   "outputs": [
    {
     "data": {
      "text/plain": [
       "LogisticRegression(C=1.0, class_weight=None, dual=False, fit_intercept=True,\n",
       "          intercept_scaling=1, max_iter=100, multi_class='ovr', n_jobs=1,\n",
       "          penalty='l2', random_state=None, solver='liblinear', tol=0.0001,\n",
       "          verbose=0, warm_start=False)"
      ]
     },
     "execution_count": 224,
     "metadata": {},
     "output_type": "execute_result"
    }
   ],
   "source": [
    "#Logistics Regression\n",
    "logreg =LogisticRegression()\n",
    "model4= logreg.fit(X_train, y_train)\n",
    "model4"
   ]
  },
  {
   "cell_type": "code",
   "execution_count": 228,
   "metadata": {},
   "outputs": [
    {
     "data": {
      "text/html": [
       "<div>\n",
       "<style scoped>\n",
       "    .dataframe tbody tr th:only-of-type {\n",
       "        vertical-align: middle;\n",
       "    }\n",
       "\n",
       "    .dataframe tbody tr th {\n",
       "        vertical-align: top;\n",
       "    }\n",
       "\n",
       "    .dataframe thead th {\n",
       "        text-align: right;\n",
       "    }\n",
       "</style>\n",
       "<table border=\"1\" class=\"dataframe\">\n",
       "  <thead>\n",
       "    <tr style=\"text-align: right;\">\n",
       "      <th></th>\n",
       "      <th>No</th>\n",
       "      <th>Yes</th>\n",
       "    </tr>\n",
       "  </thead>\n",
       "  <tbody>\n",
       "    <tr>\n",
       "      <th>No</th>\n",
       "      <td>939</td>\n",
       "      <td>2</td>\n",
       "    </tr>\n",
       "    <tr>\n",
       "      <th>Yes</th>\n",
       "      <td>59</td>\n",
       "      <td>0</td>\n",
       "    </tr>\n",
       "  </tbody>\n",
       "</table>\n",
       "</div>"
      ],
      "text/plain": [
       "      No  Yes\n",
       "No   939    2\n",
       "Yes   59    0"
      ]
     },
     "execution_count": 228,
     "metadata": {},
     "output_type": "execute_result"
    }
   ],
   "source": [
    "pred= model4.predict(X_test)\n",
    "pd.DataFrame(metrics.confusion_matrix(y_test, pred), index= logreg.classes_, columns=logreg.classes_ )"
   ]
  },
  {
   "cell_type": "code",
   "execution_count": 229,
   "metadata": {},
   "outputs": [
    {
     "name": "stdout",
     "output_type": "stream",
     "text": [
      "             precision    recall  f1-score   support\n",
      "\n",
      "         No       0.94      1.00      0.97       941\n",
      "        Yes       0.00      0.00      0.00        59\n",
      "\n",
      "avg / total       0.89      0.94      0.91      1000\n",
      "\n"
     ]
    }
   ],
   "source": [
    "print(classification_report(y_test, pred))"
   ]
  },
  {
   "cell_type": "code",
   "execution_count": 236,
   "metadata": {},
   "outputs": [
    {
     "data": {
      "text/html": [
       "<div>\n",
       "<style scoped>\n",
       "    .dataframe tbody tr th:only-of-type {\n",
       "        vertical-align: middle;\n",
       "    }\n",
       "\n",
       "    .dataframe tbody tr th {\n",
       "        vertical-align: top;\n",
       "    }\n",
       "\n",
       "    .dataframe thead th {\n",
       "        text-align: right;\n",
       "    }\n",
       "</style>\n",
       "<table border=\"1\" class=\"dataframe\">\n",
       "  <thead>\n",
       "    <tr style=\"text-align: right;\">\n",
       "      <th>Pred</th>\n",
       "      <th>No</th>\n",
       "      <th>Yes</th>\n",
       "    </tr>\n",
       "    <tr>\n",
       "      <th>True</th>\n",
       "      <th></th>\n",
       "      <th></th>\n",
       "    </tr>\n",
       "  </thead>\n",
       "  <tbody>\n",
       "    <tr>\n",
       "      <th>No</th>\n",
       "      <td>921</td>\n",
       "      <td>20</td>\n",
       "    </tr>\n",
       "    <tr>\n",
       "      <th>Yes</th>\n",
       "      <td>51</td>\n",
       "      <td>8</td>\n",
       "    </tr>\n",
       "  </tbody>\n",
       "</table>\n",
       "</div>"
      ],
      "text/plain": [
       "Pred   No  Yes\n",
       "True          \n",
       "No    921   20\n",
       "Yes    51    8"
      ]
     },
     "execution_count": 236,
     "metadata": {},
     "output_type": "execute_result"
    }
   ],
   "source": [
    "pred_p= model4.predict_proba(X_test)\n",
    "cm_df = pd.DataFrame({'True': y_test, 'Pred': pred_p[:,1] >0.25})\n",
    "cm_df.Pred.replace(to_replace ={True:'Yes', False: 'No'}, inplace=True)\n",
    "cm_df.groupby(['True' ,'Pred']).size().unstack('True').T"
   ]
  },
  {
   "cell_type": "code",
   "execution_count": 237,
   "metadata": {},
   "outputs": [
    {
     "data": {
      "text/plain": [
       "0.2857142857142857"
      ]
     },
     "execution_count": 237,
     "metadata": {},
     "output_type": "execute_result"
    }
   ],
   "source": [
    "8/28"
   ]
  },
  {
   "cell_type": "code",
   "execution_count": null,
   "metadata": {},
   "outputs": [],
   "source": []
  }
 ],
 "metadata": {
  "kernelspec": {
   "display_name": "Python 3",
   "language": "python",
   "name": "python3"
  },
  "language_info": {
   "codemirror_mode": {
    "name": "ipython",
    "version": 3
   },
   "file_extension": ".py",
   "mimetype": "text/x-python",
   "name": "python",
   "nbconvert_exporter": "python",
   "pygments_lexer": "ipython3",
   "version": "3.6.5"
  }
 },
 "nbformat": 4,
 "nbformat_minor": 2
}
