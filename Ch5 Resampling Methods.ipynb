{
 "cells": [
  {
   "cell_type": "markdown",
   "metadata": {},
   "source": [
    "# Ch5 Resampling Methods\n",
    ">* Cross Validation\n",
    ">* The bootstrap"
   ]
  },
  {
   "cell_type": "markdown",
   "metadata": {},
   "source": [
    "## The Validation Set Approach"
   ]
  },
  {
   "cell_type": "code",
   "execution_count": 43,
   "metadata": {},
   "outputs": [],
   "source": [
    "#Load Modules\n",
    "import pandas as pd\n",
    "import numpy as np\n",
    "from sklearn.model_selection import train_test_split\n",
    "from sklearn.metrics import mean_squared_error\n",
    "from sklearn.preprocessing import PolynomialFeatures\n",
    "import matplotlib.pyplot as plt"
   ]
  },
  {
   "cell_type": "code",
   "execution_count": 3,
   "metadata": {},
   "outputs": [],
   "source": [
    "auto= pd.read_csv('Dataset/Auto.csv')\n",
    "auto.horsepower.head()\n",
    "auto['hp']= auto.horsepower.replace('?',None, regex=True).astype(float)"
   ]
  },
  {
   "cell_type": "code",
   "execution_count": 9,
   "metadata": {},
   "outputs": [],
   "source": [
    "x= auto['hp']\n",
    "y= auto['mpg']\n",
    "x_train, x_test, y_train, y_test = train_test_split(x,y, test_size =0.5, random_state=30)"
   ]
  },
  {
   "cell_type": "code",
   "execution_count": 23,
   "metadata": {},
   "outputs": [],
   "source": [
    "from sklearn.linear_model import LinearRegression\n",
    "ols= LinearRegression()\n",
    "ols.fit(x_train[:,None], y_train)\n",
    "pred= ols.predict(x_test[:,None])"
   ]
  },
  {
   "cell_type": "code",
   "execution_count": 25,
   "metadata": {},
   "outputs": [
    {
     "data": {
      "text/plain": [
       "22.93796050181597"
      ]
     },
     "execution_count": 25,
     "metadata": {},
     "output_type": "execute_result"
    }
   ],
   "source": [
    "mean_squared_error(y_test, pred)"
   ]
  },
  {
   "cell_type": "markdown",
   "metadata": {},
   "source": [
    "The estimated test MSE for the linear regression fit is 22.94"
   ]
  },
  {
   "cell_type": "code",
   "execution_count": 34,
   "metadata": {},
   "outputs": [],
   "source": [
    "poly2= PolynomialFeatures(degree=2)\n",
    "x2_train= poly2.fit_transform(x_train[:,None])\n",
    "x2_test= poly2.fit_transform(x_test[:,None])"
   ]
  },
  {
   "cell_type": "code",
   "execution_count": 35,
   "metadata": {},
   "outputs": [
    {
     "data": {
      "text/plain": [
       "18.79116015307714"
      ]
     },
     "execution_count": 35,
     "metadata": {},
     "output_type": "execute_result"
    }
   ],
   "source": [
    "ols2= ols.fit(x2_train, y_train)\n",
    "pred2= ols2.predict(x2_test)\n",
    "mean_squared_error(y_test, pred2)"
   ]
  },
  {
   "cell_type": "markdown",
   "metadata": {},
   "source": [
    "The estimated test MSE for the poly regression fit is 18.79"
   ]
  },
  {
   "cell_type": "code",
   "execution_count": 36,
   "metadata": {},
   "outputs": [
    {
     "data": {
      "text/plain": [
       "18.740868971149098"
      ]
     },
     "execution_count": 36,
     "metadata": {},
     "output_type": "execute_result"
    }
   ],
   "source": [
    "poly3= PolynomialFeatures(degree=3)\n",
    "x3_train= poly3.fit_transform(x_train[:,None])\n",
    "x3_test= poly3.fit_transform(x_test[:,None])\n",
    "ols3= ols.fit(x3_train, y_train)\n",
    "pred3= ols3.predict(x3_test)\n",
    "mean_squared_error(y_test, pred3)"
   ]
  },
  {
   "cell_type": "markdown",
   "metadata": {},
   "source": [
    "The estimated test MSE for the poly regression fit is 18.74"
   ]
  },
  {
   "cell_type": "markdown",
   "metadata": {},
   "source": [
    "### Produce Figure 5.8 for Auto Dataset"
   ]
  },
  {
   "cell_type": "code",
   "execution_count": 59,
   "metadata": {},
   "outputs": [],
   "source": [
    "#choose different degree of Polynomial\n",
    "poly =None\n",
    "mse =[]\n",
    "x_poly=None\n",
    "for i in range(1,10):\n",
    "    poly= PolynomialFeatures(degree= i)\n",
    "    x_poly = poly.fit_transform(x[:,None])\n",
    "    x_train, x_test, y_train, y_test = train_test_split(x_poly, y, test_size =0.5, random_state =1)\n",
    "    ols= LinearRegression()\n",
    "    ols.fit(x_train, y_train)\n",
    "    pred= ols.predict(x_test)\n",
    "    mse.append(mean_squared_error(y_test, pred))\n",
    "    "
   ]
  },
  {
   "cell_type": "code",
   "execution_count": 60,
   "metadata": {},
   "outputs": [
    {
     "data": {
      "text/plain": [
       "[24.222639091812564,\n",
       " 18.854472643093906,\n",
       " 19.092464000315083,\n",
       " 19.40487898678229,\n",
       " 18.82206486819591,\n",
       " 18.927400533969013,\n",
       " 18.88246656560817,\n",
       " 18.846227546195546,\n",
       " 18.60069991669274]"
      ]
     },
     "execution_count": 60,
     "metadata": {},
     "output_type": "execute_result"
    }
   ],
   "source": [
    "mse"
   ]
  },
  {
   "cell_type": "code",
   "execution_count": 63,
   "metadata": {},
   "outputs": [
    {
     "data": {
      "text/plain": [
       "Text(0.5,0,'Degree of Polynomial')"
      ]
     },
     "execution_count": 63,
     "metadata": {},
     "output_type": "execute_result"
    },
    {
     "data": {
      "image/png": "[encoded data removed]",
      "text/plain": [
       "<Figure size 432x288 with 1 Axes>"
      ]
     },
     "metadata": {},
     "output_type": "display_data"
    }
   ],
   "source": [
    "plt.plot(range(1,10), mse,'-o')\n",
    "plt.ylabel('Mean Squared Error')\n",
    "plt.xlabel('Degree of Polynomial')"
   ]
  },
  {
   "cell_type": "code",
   "execution_count": 84,
   "metadata": {},
   "outputs": [],
   "source": [
    "p_order = np.arange(1,11)\n",
    "r_state = np.arange(1,11)\n",
    "X, Y = np.meshgrid(p_order, r_state, indexing='ij')\n",
    "mse2 = np.zeros((p_order.size,r_state.size))\n",
    "\n",
    "for (i, j), v in np.ndenumerate(mse2):\n",
    "    poly= PolynomialFeatures(degree= int(X[i,j]))\n",
    "    x_poly = poly.fit_transform(x[:,None])\n",
    "    x_train, x_test, y_train, y_test = train_test_split(x_poly, y, test_size =0.5, random_state =Y[i,j])\n",
    "    ols= LinearRegression()\n",
    "    ols.fit(x_train, y_train)\n",
    "    pred= ols.predict(x_test)\n",
    "    mse2[i,j]=mean_squared_error(y_test, pred)"
   ]
  },
  {
   "cell_type": "code",
   "execution_count": 107,
   "metadata": {},
   "outputs": [
    {
     "data": {
      "text/plain": [
       "<matplotlib.legend.Legend at 0x11e7cd9b0>"
      ]
     },
     "execution_count": 107,
     "metadata": {},
     "output_type": "execute_result"
    },
    {
     "data": {
      "image/png": "[encoded data removed]",
      "text/plain": [
       "<Figure size 432x288 with 1 Axes>"
      ]
     },
     "metadata": {},
     "output_type": "display_data"
    }
   ],
   "source": [
    "plt.plot(X,mse2,'-o')\n",
    "plt.ylabel('Mean Squared Error')\n",
    "plt.xlabel('degree of Polynomial')\n",
    "plt.legend(r_state)"
   ]
  },
  {
   "cell_type": "markdown",
   "metadata": {},
   "source": [
    "## Leavel-One-Out Cross-Validation"
   ]
  },
  {
   "cell_type": "code",
   "execution_count": 118,
   "metadata": {},
   "outputs": [],
   "source": [
    "from sklearn.model_selection import LeaveOneOut\n",
    "from sklearn.model_selection import cross_val_score\n",
    "loocv= LeaveOneOut()\n",
    "loocv.get_n_splits(auto)\n",
    "lm= LinearRegression()\n",
    "mse3= []\n",
    "for i in p_order:\n",
    "    poly= PolynomialFeatures(degree= i)\n",
    "    x_poly= poly.fit_transform(x[:,None])\n",
    "    mse=(cross_val_score(lm,x_poly, y, cv =loocv, scoring='neg_mean_squared_error').mean())\n",
    "    mse3.append(mse)"
   ]
  },
  {
   "cell_type": "code",
   "execution_count": 136,
   "metadata": {},
   "outputs": [
    {
     "data": {
      "text/plain": [
       "Text(0.5,1,'Leave-one-out CV')"
      ]
     },
     "execution_count": 136,
     "metadata": {},
     "output_type": "execute_result"
    },
    {
     "data": {
      "image/png": "[encoded data removed]",
      "text/plain": [
       "<Figure size 432x288 with 1 Axes>"
      ]
     },
     "metadata": {},
     "output_type": "display_data"
    }
   ],
   "source": [
    "plt.plot(p_order, np.array(mse3)*(-1), '-o')\n",
    "plt.ylabel('Mean Sqaured Error')\n",
    "plt.xlabel('Degree of Polynomial')\n",
    "plt.ylim(15,30)\n",
    "plt.title('Leave-one-out CV')"
   ]
  },
  {
   "cell_type": "markdown",
   "metadata": {},
   "source": [
    "## 10-fold Cross-Validation"
   ]
  },
  {
   "cell_type": "code",
   "execution_count": 129,
   "metadata": {},
   "outputs": [],
   "source": [
    "from sklearn.model_selection import KFold\n",
    "fold= 10\n",
    "mse4 = np.zeros((p_order.size,r_state.size))\n",
    "\n",
    "for (i, j), v in np.ndenumerate(mse4):\n",
    "    poly = PolynomialFeatures(degree =int(X[i,j]))\n",
    "    x_poly = poly.fit_transform(x[:,None])\n",
    "    kfold = KFold(n_splits= fold, random_state= Y[i,j])\n",
    "    mse4[i,j]=cross_val_score(lm, x_poly, y, cv =kfold, scoring='neg_mean_square ror').mean()"
   ]
  },
  {
   "cell_type": "code",
   "execution_count": 143,
   "metadata": {},
   "outputs": [
    {
     "data": {
      "text/plain": [
       "Text(0.5,1,'10 fold CV')"
      ]
     },
     "execution_count": 143,
     "metadata": {},
     "output_type": "execute_result"
    },
    {
     "data": {
      "image/png": "[encoded data removed]",
      "text/plain": [
       "<Figure size 432x288 with 1 Axes>"
      ]
     },
     "metadata": {},
     "output_type": "display_data"
    }
   ],
   "source": [
    "plt.plot(X, mse4*(-1),linewidth=0.5, alpha =0.8)\n",
    "plt.ylim(15,30)\n",
    "plt.ylabel('Mean Squared Error')\n",
    "plt.xlabel('Degree of Polynomial')\n",
    "plt.title ('10 fold CV')"
   ]
  },
  {
   "cell_type": "markdown",
   "metadata": {},
   "source": [
    "## Bootstrap"
   ]
  },
  {
   "cell_type": "code",
   "execution_count": null,
   "metadata": {},
   "outputs": [],
   "source": [
    "#load portfolio data\n",
    "#no portfolio data"
   ]
  }
 ],
 "metadata": {
  "kernelspec": {
   "display_name": "Python 3",
   "language": "python",
   "name": "python3"
  },
  "language_info": {
   "codemirror_mode": {
    "name": "ipython",
    "version": 3
   },
   "file_extension": ".py",
   "mimetype": "text/x-python",
   "name": "python",
   "nbconvert_exporter": "python",
   "pygments_lexer": "ipython3",
   "version": "3.6.5"
  }
 },
 "nbformat": 4,
 "nbformat_minor": 2
}
